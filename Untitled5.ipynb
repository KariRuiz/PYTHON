{
  "nbformat": 4,
  "nbformat_minor": 0,
  "metadata": {
    "colab": {
      "provenance": [],
      "authorship_tag": "ABX9TyPxef4INUUuMGiTtz3lQE97",
      "include_colab_link": true
    },
    "kernelspec": {
      "name": "python3",
      "display_name": "Python 3"
    },
    "language_info": {
      "name": "python"
    }
  },
  "cells": [
    {
      "cell_type": "markdown",
      "metadata": {
        "id": "view-in-github",
        "colab_type": "text"
      },
      "source": [
        "<a href=\"https://colab.research.google.com/github/KariRuiz/PYTHON/blob/main/Untitled5.ipynb\" target=\"_parent\"><img src=\"https://colab.research.google.com/assets/colab-badge.svg\" alt=\"Open In Colab\"/></a>"
      ]
    },
    {
      "cell_type": "code",
      "source": [
        "!pip install pyAudioAnalysis\n",
        "import librosa\n",
        "import pyAudioAnalysis\n",
        "import numpy as np\n",
        "import matplotlib.pyplot as plt\n",
        "\n",
        "from google.colab import drive\n",
        "drive.mount('/content/drive')\n",
        "\n",
        "# Ruta al archivo de audio Drive\n",
        "archivo_audio = ('/content/drive/My Drive/kali/Audio.wav')\n",
        "\n",
        "audio, frecuencia_muestreo = librosa.load(archivo_audio, sr=None)\n",
        "\n",
        "from pyAudioAnalysis import audioSegmentation\n",
        "\n",
        "#Extraer la señal de voz\n",
        "segundos_de_voz = audioSegmentation.silence_removal(audio, frecuencia_muestreo, smooth_window=1.0, weight=0.3)\n",
        "\n",
        "#visualizar la señal de voz extraída\n",
        "plt.figure(figsize=(12, 6))\n",
        "plt.subplot(2, 1, 1)\n",
        "plt.title('Señal de Audio Original')\n",
        "plt.plot(np.arange(len(audio)) / frecuencia_muestreo, audio, color='b')\n",
        "plt.xlabel('Tiempo (s)')\n",
        "plt.ylabel('Amplitud')\n",
        "plt.subplot(2, 1, 2)\n",
        "plt.title('Señal de Voz Extraída')\n",
        "plt.plot(np.arange(len(segundos_de_voz)) / frecuencia_muestreo, segundos_de_voz, color='g')\n",
        "plt.xlabel('Tiempo (s)')\n",
        "plt.ylabel('Amplitud')\n",
        "plt.tight_layout()\n",
        "plt.show()"
      ],
      "metadata": {
        "id": "KpRHhE-z6IeI"
      },
      "execution_count": null,
      "outputs": []
    }
  ]
}