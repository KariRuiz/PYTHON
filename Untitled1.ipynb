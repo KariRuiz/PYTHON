{
  "nbformat": 4,
  "nbformat_minor": 0,
  "metadata": {
    "colab": {
      "provenance": [],
      "authorship_tag": "ABX9TyPd5/s1Sjyo0lt1Wbx6yRgk",
      "include_colab_link": true
    },
    "kernelspec": {
      "name": "python3",
      "display_name": "Python 3"
    },
    "language_info": {
      "name": "python"
    }
  },
  "cells": [
    {
      "cell_type": "markdown",
      "metadata": {
        "id": "view-in-github",
        "colab_type": "text"
      },
      "source": [
        "<a href=\"https://colab.research.google.com/github/KariRuiz/PYTHON/blob/main/Untitled1.ipynb\" target=\"_parent\"><img src=\"https://colab.research.google.com/assets/colab-badge.svg\" alt=\"Open In Colab\"/></a>"
      ]
    },
    {
      "cell_type": "code",
      "source": [
        "# Función que verifica si un número es primo.\n",
        "def es_primo(num):\n",
        "    # Los números menores o iguales a 1 no son primos.\n",
        "    if num <= 1:\n",
        "        return False\n",
        "    # El número 2 es primo.\n",
        "    elif num == 2:\n",
        "        return True\n",
        "    # Los números pares (excepto el 2) no son primos.\n",
        "    elif num % 2 == 0:\n",
        "        return False\n",
        "    else:\n",
        "        # Comprobamos divisibilidad desde 3 hasta la raíz cuadrada del número.\n",
        "        for i in range(3, int(num**0.5) + 1, 2):\n",
        "            if num % i == 0:\n",
        "                return False\n",
        "        # Si no se encuentra ningún divisor, el número es primo.\n",
        "        return True\n",
        "\n",
        "# Solicitar al usuario ingresar un número entero.\n",
        "try:\n",
        "    entrada_usuario = int(input(\"Ingresa un número entero: \"))\n",
        "    # Llama a la función 'es_primo' para verificar si el número ingresado es primo.\n",
        "    if es_primo(entrada_usuario):\n",
        "        # Si es primo, muestra un mensaje indicando que es un número primo.\n",
        "        print(f\"{entrada_usuario} es un número primo.\")\n",
        "    else:\n",
        "        # Si no es primo, muestra un mensaje indicando que no es un número primo.\n",
        "        print(f\"{entrada_usuario} no es un número primo.\")\n",
        "except ValueError:\n",
        "    # Captura una excepción si el usuario ingresa algo que no es un número entero.\n",
        "    print(\"Entrada inválida. Por favor, ingresa un entero válido.\")"
      ],
      "metadata": {
        "id": "Hpo1Vt4CYy5w"
      },
      "execution_count": null,
      "outputs": []
    },
    {
      "cell_type": "code",
      "source": [
        "# Función para verificar si un número es primo\n",
        "def es_primo(num):\n",
        "    if num <= 1:\n",
        "        return False\n",
        "    elif num == 2:\n",
        "        return True\n",
        "    elif num % 2 == 0:\n",
        "        return False\n",
        "    else:\n",
        "        for i in range(3, int(num**0.5) + 1, 2):\n",
        "            if num % i == 0:\n",
        "                return False\n",
        "        return True\n",
        "\n",
        "# Función para encontrar el próximo número primo mayor que n\n",
        "def siguientePrimo(n):\n",
        "    numero = n + 1\n",
        "    while True:\n",
        "        if es_primo(numero):\n",
        "            return numero\n",
        "        numero += 1\n",
        "\n",
        "if __name__ == \"__main__\":\n",
        "    try:\n",
        "        n = int(input(\"Ingresa un número entero: \"))\n",
        "        if n < 0:\n",
        "            print(\"Por favor, ingresa un número entero positivo.\")\n",
        "        else:\n",
        "            siguiente_primo = siguientePrimo(n)\n",
        "            print(f\"El primer número primo mayor que {n} es {siguiente_primo}.\")\n",
        "    except ValueError:\n",
        "        print(\"Entrada inválida. Por favor, ingresa un número entero válido.\")"
      ],
      "metadata": {
        "colab": {
          "base_uri": "https://localhost:8080/"
        },
        "id": "o3eS-PYUVT40",
        "outputId": "70ccc02a-8d11-44b4-e590-0bf0b47d908e"
      },
      "execution_count": 4,
      "outputs": [
        {
          "output_type": "stream",
          "name": "stdout",
          "text": [
            "Ingresa un número entero: 9\n",
            "El primer número primo mayor que 9 es 11.\n"
          ]
        }
      ]
    },
    {
      "cell_type": "code",
      "source": [
        "# Función para calcular la mediana de tres números\n",
        "def mediana_de_tres(num1, num2, num3):\n",
        "    # Crear una lista con los tres números\n",
        "    numeros = [num1, num2, num3]\n",
        "    # Ordenar la lista\n",
        "    numeros.sort()\n",
        "    # La mediana es el valor del medio\n",
        "    mediana = numeros[1]\n",
        "    return mediana\n",
        "\n",
        "if __name__ == \"__main__\":\n",
        "    try:\n",
        "        # Solicitar al usuario ingresar tres valores\n",
        "        num1 = float(input(\"Ingresa el primer número: \"))\n",
        "        num2 = float(input(\"Ingresa el segundo número: \"))\n",
        "        num3 = float(input(\"Ingresa el tercer número: \"))\n",
        "\n",
        "        # Calcular la mediana utilizando la función mediana_de_tres\n",
        "        resultado_mediana = mediana_de_tres(num1, num2, num3)\n",
        "\n",
        "        # Mostrar el resultado\n",
        "        print(f\"La mediana de {num1}, {num2} y {num3} es: {resultado_mediana}\")\n",
        "\n",
        "    except ValueError:\n",
        "        print(\"Entrada inválida. Por favor, ingresa números válidos.\")"
      ],
      "metadata": {
        "colab": {
          "base_uri": "https://localhost:8080/"
        },
        "id": "yKitU0DVX82H",
        "outputId": "3bb93dfe-8ced-4e55-a450-297f1c5ab08c"
      },
      "execution_count": 5,
      "outputs": [
        {
          "output_type": "stream",
          "name": "stdout",
          "text": [
            "Ingresa el primer número: 5\n",
            "Ingresa el segundo número: 20\n",
            "Ingresa el tercer número: 66\n",
            "La mediana de 5.0, 20.0 y 66.0 es: 20.0\n"
          ]
        }
      ]
    },
    {
      "cell_type": "code",
      "source": [
        "import random\n",
        "\n",
        "# Función para generar una contraseña aleatoria\n",
        "def generar_contrasena_aleatoria():\n",
        "    longitud = random.randint(7, 10)  # Longitud aleatoria entre 7 y 10 caracteres\n",
        "    contrasena = \"\"\n",
        "\n",
        "    for _ in range(longitud):\n",
        "        # Generar un carácter aleatorio en el rango de posiciones 33 a 126 en la tabla ASCII\n",
        "        caracter_aleatorio = chr(random.randint(33, 126))\n",
        "        contrasena += caracter_aleatorio\n",
        "\n",
        "    return contrasena\n",
        "\n",
        "if __name__ == \"__main__\":\n",
        "    contrasena_aleatoria = generar_contrasena_aleatoria()\n",
        "    print(f\"Contraseña Aleatoria Generada: {contrasena_aleatoria}\")"
      ],
      "metadata": {
        "colab": {
          "base_uri": "https://localhost:8080/"
        },
        "id": "xc3R1izqZHJg",
        "outputId": "61e34896-0a03-42fe-ecc6-7c8fa4438b8e"
      },
      "execution_count": 7,
      "outputs": [
        {
          "output_type": "stream",
          "name": "stdout",
          "text": [
            "Contraseña Aleatoria Generada: 9SY6Dm4VZ\n"
          ]
        }
      ]
    },
    {
      "cell_type": "code",
      "source": [
        "\n",
        "# Función para calcular la hipotenusa de un triángulo rectángulo\n",
        "def calcular_hipotenusa(lado1, lado2):\n",
        "    hipotenusa = (lado1**2 + lado2**2)**0.5\n",
        "    return hipotenusa\n",
        "\n",
        "if __name__ == \"__main__\":\n",
        "    try:\n",
        "        # Solicitar al usuario ingresar las longitudes de los lados más cortos\n",
        "        lado1 = float(input(\"Ingresa la longitud del primer lado más corto: \"))\n",
        "        lado2 = float(input(\"Ingresa la longitud del segundo lado más corto: \"))\n",
        "\n",
        "        # Calcular la hipotenusa utilizando la función calcular_hipotenusa\n",
        "        resultado_hipotenusa = calcular_hipotenusa(lado1, lado2)\n",
        "\n",
        "        # Mostrar el resultado\n",
        "        print(f\"La longitud de la hipotenusa es: {resultado_hipotenusa}\")\n",
        "\n",
        "    except ValueError:\n",
        "        print(\"Entrada inválida. Por favor, ingresa longitudes válidas de los lados.\")"
      ],
      "metadata": {
        "colab": {
          "base_uri": "https://localhost:8080/"
        },
        "id": "IWxv8AZ1YcMw",
        "outputId": "82378221-708c-4c6c-e320-ce085c2025e3"
      },
      "execution_count": 6,
      "outputs": [
        {
          "output_type": "stream",
          "name": "stdout",
          "text": [
            "Contraseña Aleatoria Generada: 5Jrq]1bu`c\n",
            "Ingresa la longitud del primer lado más corto: 5\n",
            "Ingresa la longitud del segundo lado más corto: 6\n",
            "La longitud de la hipotenusa es: 7.810249675906654\n"
          ]
        }
      ]
    }
  ]
}