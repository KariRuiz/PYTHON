{
  "nbformat": 4,
  "nbformat_minor": 0,
  "metadata": {
    "colab": {
      "provenance": [],
      "authorship_tag": "ABX9TyPW46hfbfIskErDM9XGi1Ha",
      "include_colab_link": true
    },
    "kernelspec": {
      "name": "python3",
      "display_name": "Python 3"
    },
    "language_info": {
      "name": "python"
    }
  },
  "cells": [
    {
      "cell_type": "markdown",
      "metadata": {
        "id": "view-in-github",
        "colab_type": "text"
      },
      "source": [
        "<a href=\"https://colab.research.google.com/github/KariRuiz/PYTHON/blob/main/untitled2.ipynb\" target=\"_parent\"><img src=\"https://colab.research.google.com/assets/colab-badge.svg\" alt=\"Open In Colab\"/></a>"
      ]
    },
    {
      "cell_type": "code",
      "execution_count": null,
      "metadata": {
        "id": "ht_NM0fkVFLP"
      },
      "outputs": [],
      "source": [
        "def Primo(n):\n",
        "  if n < 2: return False\n",
        "  for i in range(2,int(n/2)+1):\n",
        "    if n % i == 0: return False\n",
        "  return True\n"
      ]
    },
    {
      "cell_type": "code",
      "source": [
        "def serca_Prime (n):\n",
        "  if not Primo(n): return False\n",
        "  i = 0\n",
        "  while True:\n",
        "    i += 1\n",
        "    if Primo(n+i): return n+i"
      ],
      "metadata": {
        "id": "vSAOYv_FVXmu"
      },
      "execution_count": null,
      "outputs": []
    },
    {
      "cell_type": "code",
      "source": [
        "def median(datos):\n",
        "    mitad = len(datos) // 2\n",
        "    datos.sort()\n",
        "    return datos[mitad]"
      ],
      "metadata": {
        "id": "vbifha-rVa8n"
      },
      "execution_count": null,
      "outputs": []
    },
    {
      "cell_type": "code",
      "source": [
        "import random\n",
        "\n",
        "def contra():\n",
        "  contrasena = \"\"\n",
        "  for i in range(1,random.randrange(7,10)):\n",
        "    contrasena += chr(random.randrange(33,126,1))\n",
        "  return contrasena"
      ],
      "metadata": {
        "id": "3F0zu8byVgX2"
      },
      "execution_count": null,
      "outputs": []
    },
    {
      "cell_type": "code",
      "source": [
        "def hipo (a,b):\n",
        "  return (a**2+b**2)**0.5"
      ],
      "metadata": {
        "id": "VdKGgopOVlBn"
      },
      "execution_count": null,
      "outputs": []
    }
  ]
}