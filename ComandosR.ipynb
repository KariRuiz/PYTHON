{
  "nbformat": 4,
  "nbformat_minor": 0,
  "metadata": {
    "colab": {
      "provenance": [],
      "authorship_tag": "ABX9TyNRj8ETqo5CV7eEHZd35/no",
      "include_colab_link": true
    },
    "kernelspec": {
      "name": "ir",
      "display_name": "R"
    },
    "language_info": {
      "name": "R"
    }
  },
  "cells": [
    {
      "cell_type": "markdown",
      "metadata": {
        "id": "view-in-github",
        "colab_type": "text"
      },
      "source": [
        "<a href=\"https://colab.research.google.com/github/KariRuiz/PYTHON/blob/main/ComandosR.ipynb\" target=\"_parent\"><img src=\"https://colab.research.google.com/assets/colab-badge.svg\" alt=\"Open In Colab\"/></a>"
      ]
    },
    {
      "cell_type": "markdown",
      "source": [
        "1er codigo: imprime la cadena de texto \"hola\""
      ],
      "metadata": {
        "id": "zqGGfOJmQFmD"
      }
    },
    {
      "cell_type": "code",
      "execution_count": 1,
      "metadata": {
        "colab": {
          "base_uri": "https://localhost:8080/"
        },
        "id": "82oPdmcX8ndZ",
        "outputId": "096c8d31-aeb9-4f08-c9ae-852ef8c0bbfc"
      },
      "outputs": [
        {
          "output_type": "stream",
          "name": "stdout",
          "text": [
            "[1] \"hola\"\n"
          ]
        }
      ],
      "source": [
        "print(\"hola\")"
      ]
    },
    {
      "cell_type": "markdown",
      "source": [
        "2do codigo: Calcula la media"
      ],
      "metadata": {
        "id": "4O5IgO8yPwMt"
      }
    },
    {
      "cell_type": "code",
      "source": [
        "mean(c(1,5,6,2,3,4))"
      ],
      "metadata": {
        "colab": {
          "base_uri": "https://localhost:8080/",
          "height": 34
        },
        "id": "EPtDjcKJPJjx",
        "outputId": "0031aa5c-c29c-4f0c-af55-12a3467d0dcf"
      },
      "execution_count": 2,
      "outputs": [
        {
          "output_type": "display_data",
          "data": {
            "text/html": [
              "3.5"
            ],
            "text/markdown": "3.5",
            "text/latex": "3.5",
            "text/plain": [
              "[1] 3.5"
            ]
          },
          "metadata": {}
        }
      ]
    },
    {
      "cell_type": "markdown",
      "source": [
        "Calcula la media y la imprime"
      ],
      "metadata": {
        "id": "5mgGP9cSQToP"
      }
    },
    {
      "cell_type": "code",
      "source": [
        "a <- c(1, 7, 8, 10, 25)  # Definir un vector 'a' con los números\n",
        "media <- mean(a)  # Calcular la media de 'a'\n",
        "print(media)  # Imprimir la media"
      ],
      "metadata": {
        "colab": {
          "base_uri": "https://localhost:8080/"
        },
        "id": "n11dtBjXQT-J",
        "outputId": "dbf65e1c-9c6f-4541-fe97-c01dfb9841e9"
      },
      "execution_count": 3,
      "outputs": [
        {
          "output_type": "stream",
          "name": "stdout",
          "text": [
            "[1] 10.2\n"
          ]
        }
      ]
    },
    {
      "cell_type": "code",
      "source": [
        "sd (a) #desviacion estandar"
      ],
      "metadata": {
        "colab": {
          "base_uri": "https://localhost:8080/",
          "height": 34
        },
        "id": "Zz4iTunIUMrk",
        "outputId": "91e00fa3-1ba4-4e60-ad97-c2209a385c1d"
      },
      "execution_count": 6,
      "outputs": [
        {
          "output_type": "display_data",
          "data": {
            "text/html": [
              "8.92748564826626"
            ],
            "text/markdown": "8.92748564826626",
            "text/latex": "8.92748564826626",
            "text/plain": [
              "[1] 8.927486"
            ]
          },
          "metadata": {}
        }
      ]
    },
    {
      "cell_type": "code",
      "source": [
        "(3 + exp(2)) / sin(pi)"
      ],
      "metadata": {
        "colab": {
          "base_uri": "https://localhost:8080/",
          "height": 34
        },
        "id": "DcYLNoIfVBXJ",
        "outputId": "3ca9af22-2c12-42dc-e7d9-4876c5adf401"
      },
      "execution_count": 7,
      "outputs": [
        {
          "output_type": "display_data",
          "data": {
            "text/html": [
              "84833080902705296"
            ],
            "text/markdown": "84833080902705296",
            "text/latex": "84833080902705296",
            "text/plain": [
              "[1] 8.483308e+16"
            ]
          },
          "metadata": {}
        }
      ]
    },
    {
      "cell_type": "code",
      "source": [
        "1 + 2 * 3"
      ],
      "metadata": {
        "colab": {
          "base_uri": "https://localhost:8080/",
          "height": 34
        },
        "id": "fU1XqzB8Wts8",
        "outputId": "4f2b1f5f-9f28-4fe9-e121-bd95f5b457f3"
      },
      "execution_count": 11,
      "outputs": [
        {
          "output_type": "display_data",
          "data": {
            "text/html": [
              "7"
            ],
            "text/markdown": "7",
            "text/latex": "7",
            "text/plain": [
              "[1] 7"
            ]
          },
          "metadata": {}
        }
      ]
    },
    {
      "cell_type": "code",
      "source": [
        "1 + (2 * 3)"
      ],
      "metadata": {
        "colab": {
          "base_uri": "https://localhost:8080/",
          "height": 34
        },
        "id": "bUIbZ42WWxCF",
        "outputId": "ca236d36-3df4-4fb9-f7e3-739bfe3f3645"
      },
      "execution_count": 9,
      "outputs": [
        {
          "output_type": "display_data",
          "data": {
            "text/html": [
              "7"
            ],
            "text/markdown": "7",
            "text/latex": "7",
            "text/plain": [
              "[1] 7"
            ]
          },
          "metadata": {}
        }
      ]
    },
    {
      "cell_type": "code",
      "source": [
        "(1 + 2) * 3"
      ],
      "metadata": {
        "colab": {
          "base_uri": "https://localhost:8080/",
          "height": 34
        },
        "id": "bOaPKxhFW2Nq",
        "outputId": "681b9cb8-63c1-41b3-8444-ce874aa7ff11"
      },
      "execution_count": 10,
      "outputs": [
        {
          "output_type": "display_data",
          "data": {
            "text/html": [
              "9"
            ],
            "text/markdown": "9",
            "text/latex": "9",
            "text/plain": [
              "[1] 9"
            ]
          },
          "metadata": {}
        }
      ]
    },
    {
      "cell_type": "code",
      "source": [
        "# Realiza una suma simple\n",
        "1 + 1\n",
        "# Realiza una multiplicación\n",
        "2 * 2\n",
        "# Realiza una suma y divide el resultado\n",
        "2 + 10 / 5\n",
        "# Realiza primero la suma y divide el resultado pero ahora dentro de un parametro\n",
        "(2 + 10) / 5\n",
        "# Calcula elevado a la potencia de 2 y luego suma 1.\n",
        "10^2 + 1\n",
        "# Calcula la raíz cuadrada de 9.\n",
        "sqrt(9)\n",
        "# Muestra el valor de π (pi) con una precisión de 22 dígitos después del punto decimal.\n",
        "print(pi, digits = 22)\n",
        "# Calcula el seno de π (pi).\n",
        "sin(pi)\n",
        "# Calcula el logaritmo natural (base e) de 100.\n",
        "log(100)\n",
        "# Calcula el logaritmo base 10 de 100.\n",
        "log10(100)\n",
        "# Calcula el logaritmo base 2 de 8.\n",
        "log2(8)\n",
        "# Calcula la función exponencial de 1, que es igual a la constante matemática \"e\".\n",
        "exp(1)"
      ],
      "metadata": {
        "colab": {
          "base_uri": "https://localhost:8080/",
          "height": 225
        },
        "id": "wpPLMfCIXZn9",
        "outputId": "571a2c0c-5bef-4003-9d12-0d301380da14"
      },
      "execution_count": 14,
      "outputs": [
        {
          "output_type": "display_data",
          "data": {
            "text/html": [
              "2"
            ],
            "text/markdown": "2",
            "text/latex": "2",
            "text/plain": [
              "[1] 2"
            ]
          },
          "metadata": {}
        },
        {
          "output_type": "display_data",
          "data": {
            "text/html": [
              "4"
            ],
            "text/markdown": "4",
            "text/latex": "4",
            "text/plain": [
              "[1] 4"
            ]
          },
          "metadata": {}
        },
        {
          "output_type": "display_data",
          "data": {
            "text/html": [
              "4"
            ],
            "text/markdown": "4",
            "text/latex": "4",
            "text/plain": [
              "[1] 4"
            ]
          },
          "metadata": {}
        },
        {
          "output_type": "display_data",
          "data": {
            "text/html": [
              "2.4"
            ],
            "text/markdown": "2.4",
            "text/latex": "2.4",
            "text/plain": [
              "[1] 2.4"
            ]
          },
          "metadata": {}
        },
        {
          "output_type": "display_data",
          "data": {
            "text/html": [
              "101"
            ],
            "text/markdown": "101",
            "text/latex": "101",
            "text/plain": [
              "[1] 101"
            ]
          },
          "metadata": {}
        },
        {
          "output_type": "display_data",
          "data": {
            "text/html": [
              "3"
            ],
            "text/markdown": "3",
            "text/latex": "3",
            "text/plain": [
              "[1] 3"
            ]
          },
          "metadata": {}
        },
        {
          "output_type": "stream",
          "name": "stdout",
          "text": [
            "[1] 3.141592653589793115998\n"
          ]
        },
        {
          "output_type": "display_data",
          "data": {
            "text/html": [
              "1.22464679914735e-16"
            ],
            "text/markdown": "1.22464679914735e-16",
            "text/latex": "1.22464679914735e-16",
            "text/plain": [
              "[1] 1.224647e-16"
            ]
          },
          "metadata": {}
        },
        {
          "output_type": "display_data",
          "data": {
            "text/html": [
              "4.60517018598809"
            ],
            "text/markdown": "4.60517018598809",
            "text/latex": "4.60517018598809",
            "text/plain": [
              "[1] 4.60517"
            ]
          },
          "metadata": {}
        },
        {
          "output_type": "display_data",
          "data": {
            "text/html": [
              "2"
            ],
            "text/markdown": "2",
            "text/latex": "2",
            "text/plain": [
              "[1] 2"
            ]
          },
          "metadata": {}
        },
        {
          "output_type": "display_data",
          "data": {
            "text/html": [
              "3"
            ],
            "text/markdown": "3",
            "text/latex": "3",
            "text/plain": [
              "[1] 3"
            ]
          },
          "metadata": {}
        },
        {
          "output_type": "display_data",
          "data": {
            "text/html": [
              "2.71828182845905"
            ],
            "text/markdown": "2.71828182845905",
            "text/latex": "2.71828182845905",
            "text/plain": [
              "[1] 2.718282"
            ]
          },
          "metadata": {}
        }
      ]
    },
    {
      "cell_type": "code",
      "source": [
        "# Asigna el valor 1 a la variable 'a'.\n",
        "a <- 1\n",
        "# Realiza una suma de 'a' más 1 y muestra el resultado, pero no almacena el resultado en ninguna variable.\n",
        "a + 1\n",
        "# Muestra el valor actual de la variable 'a'.\n",
        "a\n",
        "# Asigna el valor 10 a la variable 'b'.\n",
        "b <- 10\n",
        "# Realiza una suma de 'a' más 'b' y almacena el resultado en la variable 'b'.\n",
        "b <- a + b\n",
        "# Muestra el valor actual de la variable 'b' (que es el resultado de la suma anterior).\n",
        "b\n",
        "# Realiza una operación de multiplicación de 3e-2 (que es 0.03) por 2.0 y muestra el resultado.\n",
        "3e-2 * 2.0"
      ],
      "metadata": {
        "colab": {
          "base_uri": "https://localhost:8080/",
          "height": 86
        },
        "id": "UOLvqyNpZgYC",
        "outputId": "c0549ab1-b745-40ec-b10e-e4632ef5a3b4"
      },
      "execution_count": 17,
      "outputs": [
        {
          "output_type": "display_data",
          "data": {
            "text/html": [
              "2"
            ],
            "text/markdown": "2",
            "text/latex": "2",
            "text/plain": [
              "[1] 2"
            ]
          },
          "metadata": {}
        },
        {
          "output_type": "display_data",
          "data": {
            "text/html": [
              "1"
            ],
            "text/markdown": "1",
            "text/latex": "1",
            "text/plain": [
              "[1] 1"
            ]
          },
          "metadata": {}
        },
        {
          "output_type": "display_data",
          "data": {
            "text/html": [
              "11"
            ],
            "text/markdown": "11",
            "text/latex": "11",
            "text/plain": [
              "[1] 11"
            ]
          },
          "metadata": {}
        },
        {
          "output_type": "display_data",
          "data": {
            "text/html": [
              "0.06"
            ],
            "text/markdown": "0.06",
            "text/latex": "0.06",
            "text/plain": [
              "[1] 0.06"
            ]
          },
          "metadata": {}
        }
      ]
    },
    {
      "cell_type": "code",
      "source": [
        "# Redondea el número 0.0124567 a 3 dígitos decimales.\n",
        "round(0.0124567, digits = 3)\n",
        "# Establece la cantidad de dígitos significativos en 3 para el número 0.0124567.\n",
        "signif(0.0124567, digits = 3)\n",
        "# Redondea el número 1789.1234 a 3 dígitos decimales.\n",
        "round(1789.1234, digits = 3)\n",
        "# Establece la cantidad de dígitos significativos en 3 para el número 1789.1234.\n",
        "signif(1789.1234, digits = 3)\n",
        "# Redondea el número 1789.1234 a -1 dígito decimal (al número más cercano múltiplo de 10).\n",
        "round(1789.1234, digits = -1)\n",
        "# Asigna el valor 0.12345 a la variable 'a'.\n",
        "a <- 0.12345\n",
        "# Redondea el valor de 'a' a 2 dígitos decimales y almacena el resultado en la variable 'b'.\n",
        "b <- round(a, digits = 2)\n",
        "# Compara si 'a' es igual a 'b', considerando la posible pérdida de precisión en redondeo.\n",
        "a == b\n",
        "# Resta 'b' (valor redondeado) de 'a' (valor original).\n",
        "a - b\n",
        "# Muestra el valor de 'b' (valor redondeado).\n",
        "b"
      ],
      "metadata": {
        "colab": {
          "base_uri": "https://localhost:8080/",
          "height": 156
        },
        "id": "zgX_ucTCaRLy",
        "outputId": "8c90961c-ec35-4a42-f33a-afecb867e26f"
      },
      "execution_count": 20,
      "outputs": [
        {
          "output_type": "display_data",
          "data": {
            "text/html": [
              "0.012"
            ],
            "text/markdown": "0.012",
            "text/latex": "0.012",
            "text/plain": [
              "[1] 0.012"
            ]
          },
          "metadata": {}
        },
        {
          "output_type": "display_data",
          "data": {
            "text/html": [
              "0.0125"
            ],
            "text/markdown": "0.0125",
            "text/latex": "0.0125",
            "text/plain": [
              "[1] 0.0125"
            ]
          },
          "metadata": {}
        },
        {
          "output_type": "display_data",
          "data": {
            "text/html": [
              "1789.123"
            ],
            "text/markdown": "1789.123",
            "text/latex": "1789.123",
            "text/plain": [
              "[1] 1789.123"
            ]
          },
          "metadata": {}
        },
        {
          "output_type": "display_data",
          "data": {
            "text/html": [
              "1790"
            ],
            "text/markdown": "1790",
            "text/latex": "1790",
            "text/plain": [
              "[1] 1790"
            ]
          },
          "metadata": {}
        },
        {
          "output_type": "display_data",
          "data": {
            "text/html": [
              "1790"
            ],
            "text/markdown": "1790",
            "text/latex": "1790",
            "text/plain": [
              "[1] 1790"
            ]
          },
          "metadata": {}
        },
        {
          "output_type": "display_data",
          "data": {
            "text/html": [
              "FALSE"
            ],
            "text/markdown": "FALSE",
            "text/latex": "FALSE",
            "text/plain": [
              "[1] FALSE"
            ]
          },
          "metadata": {}
        },
        {
          "output_type": "display_data",
          "data": {
            "text/html": [
              "0.00345000000000001"
            ],
            "text/markdown": "0.00345000000000001",
            "text/latex": "0.00345000000000001",
            "text/plain": [
              "[1] 0.00345"
            ]
          },
          "metadata": {}
        },
        {
          "output_type": "display_data",
          "data": {
            "text/html": [
              "0.12"
            ],
            "text/markdown": "0.12",
            "text/latex": "0.12",
            "text/plain": [
              "[1] 0.12"
            ]
          },
          "metadata": {}
        }
      ]
    },
    {
      "cell_type": "code",
      "source": [
        "1.2 > 1.0\n",
        "1.2 >= 1.0\n",
        "1.2 == 1.0\n",
        "1.2 != 1.0  #Comprueva si los numeros son mayores o menores y te pone si es verdadero o falso\n",
        "1.2 <= 1.0\n",
        "1.2 < 1.0\n",
        "a <- 20\n",
        "a < 100 && a > 10"
      ],
      "metadata": {
        "colab": {
          "base_uri": "https://localhost:8080/",
          "height": 139
        },
        "id": "lEmfDeCPbDjA",
        "outputId": "43106c11-cb57-4b56-d7ec-163321c4b57d"
      },
      "execution_count": 22,
      "outputs": [
        {
          "output_type": "display_data",
          "data": {
            "text/html": [
              "TRUE"
            ],
            "text/markdown": "TRUE",
            "text/latex": "TRUE",
            "text/plain": [
              "[1] TRUE"
            ]
          },
          "metadata": {}
        },
        {
          "output_type": "display_data",
          "data": {
            "text/html": [
              "TRUE"
            ],
            "text/markdown": "TRUE",
            "text/latex": "TRUE",
            "text/plain": [
              "[1] TRUE"
            ]
          },
          "metadata": {}
        },
        {
          "output_type": "display_data",
          "data": {
            "text/html": [
              "FALSE"
            ],
            "text/markdown": "FALSE",
            "text/latex": "FALSE",
            "text/plain": [
              "[1] FALSE"
            ]
          },
          "metadata": {}
        },
        {
          "output_type": "display_data",
          "data": {
            "text/html": [
              "TRUE"
            ],
            "text/markdown": "TRUE",
            "text/latex": "TRUE",
            "text/plain": [
              "[1] TRUE"
            ]
          },
          "metadata": {}
        },
        {
          "output_type": "display_data",
          "data": {
            "text/html": [
              "FALSE"
            ],
            "text/markdown": "FALSE",
            "text/latex": "FALSE",
            "text/plain": [
              "[1] FALSE"
            ]
          },
          "metadata": {}
        },
        {
          "output_type": "display_data",
          "data": {
            "text/html": [
              "FALSE"
            ],
            "text/markdown": "FALSE",
            "text/latex": "FALSE",
            "text/plain": [
              "[1] FALSE"
            ]
          },
          "metadata": {}
        },
        {
          "output_type": "display_data",
          "data": {
            "text/html": [
              "TRUE"
            ],
            "text/markdown": "TRUE",
            "text/latex": "TRUE",
            "text/plain": [
              "[1] TRUE"
            ]
          },
          "metadata": {}
        }
      ]
    },
    {
      "cell_type": "code",
      "source": [
        "# Crea un vector 'a' que contiene los números del 1 al 10.\n",
        "a <- 1:10\n",
        "# Comprueba qué elementos de 'a' son mayores que 5. Se muestra un vector de booleanos con TRUE para los valores mayores que 5 y FALSE para los demás.\n",
        "a > 5\n",
        "# Comprueba qué elementos de 'a' son menores que 5. Se muestra un vector de booleanos con TRUE para los valores menores que 5 y FALSE para los demás.\n",
        "a < 5\n",
        "# Comprueba qué elementos de 'a' son iguales a 5. Se muestra un vector de booleanos con TRUE para los valores iguales a 5 y FALSE para los demás.\n",
        "a == 5\n",
        "# Comprueba si TODOS los elementos de 'a' son mayores que 5. El resultado es FALSE, ya que algunos valores son menores o iguales a 5.\n",
        "all(a > 5)\n",
        "# Comprueba si AL MENOS UNO de los elementos de 'a' es mayor que 5. El resultado es TRUE, ya que al menos un valor es mayor que 5.\n",
        "any(a > 5)\n",
        "# Crea un nuevo vector 'b' que contiene los resultados de la comparación de cada elemento de 'a' con 5.\n",
        "b <- a > 5\n",
        "b\n",
        "# Comprueba si AL MENOS UNO de los elementos de 'b' es TRUE. El resultado es TRUE, ya que al menos un valor en 'b' es TRUE.\n",
        "any(b)\n",
        "# Comprueba si TODOS los elementos de 'b' son TRUE. El resultado es FALSE, ya que algunos valores en 'b' son FALSE.\n",
        "all(b)\n"
      ],
      "metadata": {
        "colab": {
          "base_uri": "https://localhost:8080/",
          "height": 156
        },
        "id": "-ghkTYuvb0UH",
        "outputId": "616a342d-0cbc-41bd-cabe-9c2be5fc32ac"
      },
      "execution_count": 24,
      "outputs": [
        {
          "output_type": "display_data",
          "data": {
            "text/html": [
              "<style>\n",
              ".list-inline {list-style: none; margin:0; padding: 0}\n",
              ".list-inline>li {display: inline-block}\n",
              ".list-inline>li:not(:last-child)::after {content: \"\\00b7\"; padding: 0 .5ex}\n",
              "</style>\n",
              "<ol class=list-inline><li>FALSE</li><li>FALSE</li><li>FALSE</li><li>FALSE</li><li>FALSE</li><li>TRUE</li><li>TRUE</li><li>TRUE</li><li>TRUE</li><li>TRUE</li></ol>\n"
            ],
            "text/markdown": "1. FALSE\n2. FALSE\n3. FALSE\n4. FALSE\n5. FALSE\n6. TRUE\n7. TRUE\n8. TRUE\n9. TRUE\n10. TRUE\n\n\n",
            "text/latex": "\\begin{enumerate*}\n\\item FALSE\n\\item FALSE\n\\item FALSE\n\\item FALSE\n\\item FALSE\n\\item TRUE\n\\item TRUE\n\\item TRUE\n\\item TRUE\n\\item TRUE\n\\end{enumerate*}\n",
            "text/plain": [
              " [1] FALSE FALSE FALSE FALSE FALSE  TRUE  TRUE  TRUE  TRUE  TRUE"
            ]
          },
          "metadata": {}
        },
        {
          "output_type": "display_data",
          "data": {
            "text/html": [
              "<style>\n",
              ".list-inline {list-style: none; margin:0; padding: 0}\n",
              ".list-inline>li {display: inline-block}\n",
              ".list-inline>li:not(:last-child)::after {content: \"\\00b7\"; padding: 0 .5ex}\n",
              "</style>\n",
              "<ol class=list-inline><li>TRUE</li><li>TRUE</li><li>TRUE</li><li>TRUE</li><li>FALSE</li><li>FALSE</li><li>FALSE</li><li>FALSE</li><li>FALSE</li><li>FALSE</li></ol>\n"
            ],
            "text/markdown": "1. TRUE\n2. TRUE\n3. TRUE\n4. TRUE\n5. FALSE\n6. FALSE\n7. FALSE\n8. FALSE\n9. FALSE\n10. FALSE\n\n\n",
            "text/latex": "\\begin{enumerate*}\n\\item TRUE\n\\item TRUE\n\\item TRUE\n\\item TRUE\n\\item FALSE\n\\item FALSE\n\\item FALSE\n\\item FALSE\n\\item FALSE\n\\item FALSE\n\\end{enumerate*}\n",
            "text/plain": [
              " [1]  TRUE  TRUE  TRUE  TRUE FALSE FALSE FALSE FALSE FALSE FALSE"
            ]
          },
          "metadata": {}
        },
        {
          "output_type": "display_data",
          "data": {
            "text/html": [
              "<style>\n",
              ".list-inline {list-style: none; margin:0; padding: 0}\n",
              ".list-inline>li {display: inline-block}\n",
              ".list-inline>li:not(:last-child)::after {content: \"\\00b7\"; padding: 0 .5ex}\n",
              "</style>\n",
              "<ol class=list-inline><li>FALSE</li><li>FALSE</li><li>FALSE</li><li>FALSE</li><li>TRUE</li><li>FALSE</li><li>FALSE</li><li>FALSE</li><li>FALSE</li><li>FALSE</li></ol>\n"
            ],
            "text/markdown": "1. FALSE\n2. FALSE\n3. FALSE\n4. FALSE\n5. TRUE\n6. FALSE\n7. FALSE\n8. FALSE\n9. FALSE\n10. FALSE\n\n\n",
            "text/latex": "\\begin{enumerate*}\n\\item FALSE\n\\item FALSE\n\\item FALSE\n\\item FALSE\n\\item TRUE\n\\item FALSE\n\\item FALSE\n\\item FALSE\n\\item FALSE\n\\item FALSE\n\\end{enumerate*}\n",
            "text/plain": [
              " [1] FALSE FALSE FALSE FALSE  TRUE FALSE FALSE FALSE FALSE FALSE"
            ]
          },
          "metadata": {}
        },
        {
          "output_type": "display_data",
          "data": {
            "text/html": [
              "FALSE"
            ],
            "text/markdown": "FALSE",
            "text/latex": "FALSE",
            "text/plain": [
              "[1] FALSE"
            ]
          },
          "metadata": {}
        },
        {
          "output_type": "display_data",
          "data": {
            "text/html": [
              "TRUE"
            ],
            "text/markdown": "TRUE",
            "text/latex": "TRUE",
            "text/plain": [
              "[1] TRUE"
            ]
          },
          "metadata": {}
        },
        {
          "output_type": "display_data",
          "data": {
            "text/html": [
              "<style>\n",
              ".list-inline {list-style: none; margin:0; padding: 0}\n",
              ".list-inline>li {display: inline-block}\n",
              ".list-inline>li:not(:last-child)::after {content: \"\\00b7\"; padding: 0 .5ex}\n",
              "</style>\n",
              "<ol class=list-inline><li>FALSE</li><li>FALSE</li><li>FALSE</li><li>FALSE</li><li>FALSE</li><li>TRUE</li><li>TRUE</li><li>TRUE</li><li>TRUE</li><li>TRUE</li></ol>\n"
            ],
            "text/markdown": "1. FALSE\n2. FALSE\n3. FALSE\n4. FALSE\n5. FALSE\n6. TRUE\n7. TRUE\n8. TRUE\n9. TRUE\n10. TRUE\n\n\n",
            "text/latex": "\\begin{enumerate*}\n\\item FALSE\n\\item FALSE\n\\item FALSE\n\\item FALSE\n\\item FALSE\n\\item TRUE\n\\item TRUE\n\\item TRUE\n\\item TRUE\n\\item TRUE\n\\end{enumerate*}\n",
            "text/plain": [
              " [1] FALSE FALSE FALSE FALSE FALSE  TRUE  TRUE  TRUE  TRUE  TRUE"
            ]
          },
          "metadata": {}
        },
        {
          "output_type": "display_data",
          "data": {
            "text/html": [
              "TRUE"
            ],
            "text/markdown": "TRUE",
            "text/latex": "TRUE",
            "text/plain": [
              "[1] TRUE"
            ]
          },
          "metadata": {}
        },
        {
          "output_type": "display_data",
          "data": {
            "text/html": [
              "FALSE"
            ],
            "text/markdown": "FALSE",
            "text/latex": "FALSE",
            "text/plain": [
              "[1] FALSE"
            ]
          },
          "metadata": {}
        }
      ]
    },
    {
      "cell_type": "code",
      "source": [
        "a <- \"Hola spy Karina\"\n",
        "a\n",
        "\n",
        "b <- 'Como estas?'\n",
        "b"
      ],
      "metadata": {
        "colab": {
          "base_uri": "https://localhost:8080/",
          "height": 52
        },
        "id": "gpFyKdx5dCtr",
        "outputId": "330e3ed1-cbec-491d-9d92-b8fabde77aea"
      },
      "execution_count": 29,
      "outputs": [
        {
          "output_type": "display_data",
          "data": {
            "text/html": [
              "'Hola spy Karina'"
            ],
            "text/markdown": "'Hola spy Karina'",
            "text/latex": "'Hola spy Karina'",
            "text/plain": [
              "[1] \"Hola spy Karina\""
            ]
          },
          "metadata": {}
        },
        {
          "output_type": "display_data",
          "data": {
            "text/html": [
              "'Como estas?'"
            ],
            "text/markdown": "'Como estas?'",
            "text/latex": "'Como estas?'",
            "text/plain": [
              "[1] \"Como estas?\""
            ]
          },
          "metadata": {}
        }
      ]
    },
    {
      "cell_type": "code",
      "source": [
        "my_var <- 1:5\n",
        "mode(my_var) # no distinction of integer or double\n",
        "## [1] \"numeric\"\n",
        "typeof(my_var)\n",
        "## [1] \"integer\"\n",
        "is.numeric(my_var) # no distinction of integer or double\n",
        "## [1] TRUE\n",
        "is.double(my_var)\n",
        "## [1] FALSE\n",
        "is.integer(my_var)\n",
        "## [1] TRUE\n",
        "is.logical(my_var)\n",
        "## [1] FALSE\n",
        "is.character(my_var)\n",
        "## [1] FALSE\n",
        "my_var <- \"abc\"\n",
        "mode(my_var)\n",
        "## [1] \"character\""
      ],
      "metadata": {
        "colab": {
          "base_uri": "https://localhost:8080/",
          "height": 156
        },
        "id": "hsOI1zP5dpdt",
        "outputId": "7cefd11e-dce9-498c-f455-26015420690f"
      },
      "execution_count": 30,
      "outputs": [
        {
          "output_type": "display_data",
          "data": {
            "text/html": [
              "'numeric'"
            ],
            "text/markdown": "'numeric'",
            "text/latex": "'numeric'",
            "text/plain": [
              "[1] \"numeric\""
            ]
          },
          "metadata": {}
        },
        {
          "output_type": "display_data",
          "data": {
            "text/html": [
              "'integer'"
            ],
            "text/markdown": "'integer'",
            "text/latex": "'integer'",
            "text/plain": [
              "[1] \"integer\""
            ]
          },
          "metadata": {}
        },
        {
          "output_type": "display_data",
          "data": {
            "text/html": [
              "TRUE"
            ],
            "text/markdown": "TRUE",
            "text/latex": "TRUE",
            "text/plain": [
              "[1] TRUE"
            ]
          },
          "metadata": {}
        },
        {
          "output_type": "display_data",
          "data": {
            "text/html": [
              "FALSE"
            ],
            "text/markdown": "FALSE",
            "text/latex": "FALSE",
            "text/plain": [
              "[1] FALSE"
            ]
          },
          "metadata": {}
        },
        {
          "output_type": "display_data",
          "data": {
            "text/html": [
              "TRUE"
            ],
            "text/markdown": "TRUE",
            "text/latex": "TRUE",
            "text/plain": [
              "[1] TRUE"
            ]
          },
          "metadata": {}
        },
        {
          "output_type": "display_data",
          "data": {
            "text/html": [
              "FALSE"
            ],
            "text/markdown": "FALSE",
            "text/latex": "FALSE",
            "text/plain": [
              "[1] FALSE"
            ]
          },
          "metadata": {}
        },
        {
          "output_type": "display_data",
          "data": {
            "text/html": [
              "FALSE"
            ],
            "text/markdown": "FALSE",
            "text/latex": "FALSE",
            "text/plain": [
              "[1] FALSE"
            ]
          },
          "metadata": {}
        },
        {
          "output_type": "display_data",
          "data": {
            "text/html": [
              "'character'"
            ],
            "text/markdown": "'character'",
            "text/latex": "'character'",
            "text/plain": [
              "[1] \"character\""
            ]
          },
          "metadata": {}
        }
      ]
    },
    {
      "cell_type": "code",
      "source": [
        "as.character(1)\n",
        "## [1] \"1\"\n",
        "as.numeric(\"1\")\n",
        "## [1] 1\n",
        "as.logical(\"TRUE\")\n",
        "## [1] TRUE\n",
        "as.logical(\"NA\")\n",
        "## [1] NA"
      ],
      "metadata": {
        "colab": {
          "base_uri": "https://localhost:8080/",
          "height": 86
        },
        "id": "3nKymSDadtlT",
        "outputId": "9f711345-0f0a-4fa7-d605-1f5511cf6cf8"
      },
      "execution_count": 31,
      "outputs": [
        {
          "output_type": "display_data",
          "data": {
            "text/html": [
              "'1'"
            ],
            "text/markdown": "'1'",
            "text/latex": "'1'",
            "text/plain": [
              "[1] \"1\""
            ]
          },
          "metadata": {}
        },
        {
          "output_type": "display_data",
          "data": {
            "text/html": [
              "1"
            ],
            "text/markdown": "1",
            "text/latex": "1",
            "text/plain": [
              "[1] 1"
            ]
          },
          "metadata": {}
        },
        {
          "output_type": "display_data",
          "data": {
            "text/html": [
              "TRUE"
            ],
            "text/markdown": "TRUE",
            "text/latex": "TRUE",
            "text/plain": [
              "[1] TRUE"
            ]
          },
          "metadata": {}
        },
        {
          "output_type": "display_data",
          "data": {
            "text/html": [
              "&lt;NA&gt;"
            ],
            "text/markdown": "&lt;NA&gt;",
            "text/latex": "<NA>",
            "text/plain": [
              "[1] NA"
            ]
          },
          "metadata": {}
        }
      ]
    },
    {
      "cell_type": "code",
      "source": [
        "x = c(123.4567890, 1.0)\n",
        "format(x) # using defaults\n",
        "## [1] \"123.4568\" \" 1.0000\"\n",
        "format(x[1]) # using defaults\n",
        "## [1] \"123.4568\"\n",
        "format(x[2]) # using defaults\n",
        "## [1] \"1\"\n",
        "format(x, digits = 3, nsmall = 1)\n",
        "## [1] \"123.5\" \" 1.0\"\n",
        "format(x[1], digits = 3, nsmall = 1)\n",
        "## [1] \"123.5\"\n",
        "format(x[2], digits = 3, nsmall = 1)\n",
        "## [1] \"1.0\"\n",
        "format(x, digits = 3, scientific = TRUE)\n",
        "## [1] \"1.23e+02\" \"1.00e+00\""
      ],
      "metadata": {
        "colab": {
          "base_uri": "https://localhost:8080/",
          "height": 139
        },
        "id": "L7KWn3p5d0td",
        "outputId": "e07381ac-9d75-4c6c-83ca-20ec393331ba"
      },
      "execution_count": 32,
      "outputs": [
        {
          "output_type": "display_data",
          "data": {
            "text/html": [
              "<style>\n",
              ".list-inline {list-style: none; margin:0; padding: 0}\n",
              ".list-inline>li {display: inline-block}\n",
              ".list-inline>li:not(:last-child)::after {content: \"\\00b7\"; padding: 0 .5ex}\n",
              "</style>\n",
              "<ol class=list-inline><li>'123.4568'</li><li><span style=white-space:pre-wrap>'  1.0000'</span></li></ol>\n"
            ],
            "text/markdown": "1. '123.4568'\n2. <span style=white-space:pre-wrap>'  1.0000'</span>\n\n\n",
            "text/latex": "\\begin{enumerate*}\n\\item '123.4568'\n\\item '  1.0000'\n\\end{enumerate*}\n",
            "text/plain": [
              "[1] \"123.4568\" \"  1.0000\""
            ]
          },
          "metadata": {}
        },
        {
          "output_type": "display_data",
          "data": {
            "text/html": [
              "'123.4568'"
            ],
            "text/markdown": "'123.4568'",
            "text/latex": "'123.4568'",
            "text/plain": [
              "[1] \"123.4568\""
            ]
          },
          "metadata": {}
        },
        {
          "output_type": "display_data",
          "data": {
            "text/html": [
              "'1'"
            ],
            "text/markdown": "'1'",
            "text/latex": "'1'",
            "text/plain": [
              "[1] \"1\""
            ]
          },
          "metadata": {}
        },
        {
          "output_type": "display_data",
          "data": {
            "text/html": [
              "<style>\n",
              ".list-inline {list-style: none; margin:0; padding: 0}\n",
              ".list-inline>li {display: inline-block}\n",
              ".list-inline>li:not(:last-child)::after {content: \"\\00b7\"; padding: 0 .5ex}\n",
              "</style>\n",
              "<ol class=list-inline><li>'123.5'</li><li><span style=white-space:pre-wrap>'  1.0'</span></li></ol>\n"
            ],
            "text/markdown": "1. '123.5'\n2. <span style=white-space:pre-wrap>'  1.0'</span>\n\n\n",
            "text/latex": "\\begin{enumerate*}\n\\item '123.5'\n\\item '  1.0'\n\\end{enumerate*}\n",
            "text/plain": [
              "[1] \"123.5\" \"  1.0\""
            ]
          },
          "metadata": {}
        },
        {
          "output_type": "display_data",
          "data": {
            "text/html": [
              "'123.5'"
            ],
            "text/markdown": "'123.5'",
            "text/latex": "'123.5'",
            "text/plain": [
              "[1] \"123.5\""
            ]
          },
          "metadata": {}
        },
        {
          "output_type": "display_data",
          "data": {
            "text/html": [
              "'1.0'"
            ],
            "text/markdown": "'1.0'",
            "text/latex": "'1.0'",
            "text/plain": [
              "[1] \"1.0\""
            ]
          },
          "metadata": {}
        },
        {
          "output_type": "display_data",
          "data": {
            "text/html": [
              "<style>\n",
              ".list-inline {list-style: none; margin:0; padding: 0}\n",
              ".list-inline>li {display: inline-block}\n",
              ".list-inline>li:not(:last-child)::after {content: \"\\00b7\"; padding: 0 .5ex}\n",
              "</style>\n",
              "<ol class=list-inline><li>'1.23e+02'</li><li>'1.00e+00'</li></ol>\n"
            ],
            "text/markdown": "1. '1.23e+02'\n2. '1.00e+00'\n\n\n",
            "text/latex": "\\begin{enumerate*}\n\\item '1.23e+02'\n\\item '1.00e+00'\n\\end{enumerate*}\n",
            "text/plain": [
              "[1] \"1.23e+02\" \"1.00e+00\""
            ]
          },
          "metadata": {}
        }
      ]
    }
  ]
}