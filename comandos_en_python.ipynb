{
  "nbformat": 4,
  "nbformat_minor": 0,
  "metadata": {
    "colab": {
      "provenance": [],
      "authorship_tag": "ABX9TyMr8DCGimqQf7YpT1sinJ0n",
      "include_colab_link": true
    },
    "kernelspec": {
      "name": "python3",
      "display_name": "Python 3"
    },
    "language_info": {
      "name": "python"
    }
  },
  "cells": [
    {
      "cell_type": "markdown",
      "metadata": {
        "id": "view-in-github",
        "colab_type": "text"
      },
      "source": [
        "<a href=\"https://colab.research.google.com/github/KariRuiz/PYTHON/blob/main/comandos_en_python.ipynb\" target=\"_parent\"><img src=\"https://colab.research.google.com/assets/colab-badge.svg\" alt=\"Open In Colab\"/></a>"
      ]
    },
    {
      "cell_type": "markdown",
      "source": [
        "Alumna:\n",
        "\n",
        "Materia:"
      ],
      "metadata": {
        "id": "S2_iSLmta6_f"
      }
    },
    {
      "cell_type": "code",
      "execution_count": 1,
      "metadata": {
        "colab": {
          "base_uri": "https://localhost:8080/"
        },
        "id": "N4n2Lz2YZnRt",
        "outputId": "688fd9a9-6e4d-430d-a81f-4e157889dbcd"
      },
      "outputs": [
        {
          "output_type": "stream",
          "name": "stdout",
          "text": [
            "7\n",
            "5\n"
          ]
        }
      ],
      "source": [
        "# scopes1.py\n",
        "# Local versus Global\n",
        "\n",
        "# Definimos una función llamada local\n",
        "def local():\n",
        "    m = 7\n",
        "    print(m)\n",
        "\n",
        "# Definimos m dentro del alcance global\n",
        "m = 5\n",
        "\n",
        "# Llamamos o ejecutamos la función local\n",
        "local()\n",
        "print(m)"
      ]
    },
    {
      "cell_type": "code",
      "source": [
        "# bike.py\n",
        "\n",
        "# Definimos la clase Bike (Clase Bicicleta):\n",
        "class Bike:\n",
        "    # Constructor de la clase Bike, que recibe color y material del marco como parámetros.\n",
        "    def __init__(self, colour, frame_material):\n",
        "        self.colour = colour  # Establece el atributo 'colour' con el color proporcionado.\n",
        "        self.frame_material = frame_material  # Establece el atributo 'frame_material' con el material del marco proporcionado.\n",
        "\n",
        "    # Método 'brake' (frenar) de la clase Bike.\n",
        "    def brake(self):\n",
        "        print(\"¡Frenando!\")  # Imprime \"¡Frenando!\" cuando se llama a este método.\n",
        "\n",
        "# Creamos un par de instancias de la clase Bike.\n",
        "red_bike = Bike('Roja', 'Fibra de carbono')\n",
        "blue_bike = Bike('Azul', 'Acero')\n",
        "\n",
        "# Inspeccionamos los objetos que tenemos, que son instancias de la clase Bike.\n",
        "print(red_bike.colour)          # Imprime: Roja\n",
        "print(red_bike.frame_material)  # Imprime: Fibra de carbono\n",
        "print(blue_bike.colour)         # Imprime: Azul\n",
        "print(blue_bike.frame_material) # Imprime: Acero\n",
        "\n",
        "# ¡Frenemos!\n",
        "red_bike.brake()  # Llama al método 'brake' en la instancia red_bike e imprime: ¡Frenando!"
      ],
      "metadata": {
        "colab": {
          "base_uri": "https://localhost:8080/"
        },
        "id": "tiTjKk0hgS4K",
        "outputId": "acd3cb84-2ea5-4e2f-e36b-6e8737bfbda2"
      },
      "execution_count": 1,
      "outputs": [
        {
          "output_type": "stream",
          "name": "stdout",
          "text": [
            "Roja\n",
            "Fibra de carbono\n",
            "Azul\n",
            "Acero\n",
            "¡Frenando!\n"
          ]
        }
      ]
    },
    {
      "cell_type": "code",
      "source": [
        "# scopes2.py\n",
        "# Local versus Global\n",
        "def local():\n",
        "# m doesn't belong to the scope defined by the local function\n",
        "# so Python will keep looking into the next enclosing scope.\n",
        "# m is finally found in the global scope\n",
        "    print(m, 'printing from the local scope')\n",
        "m = 5\n",
        "print(m, 'printing from the global scope')\n",
        "local()"
      ],
      "metadata": {
        "colab": {
          "base_uri": "https://localhost:8080/"
        },
        "id": "5GEIuDflnliS",
        "outputId": "cbfe76bd-2af4-41ab-b2e8-f36d4192e178"
      },
      "execution_count": 2,
      "outputs": [
        {
          "output_type": "stream",
          "name": "stdout",
          "text": [
            "5 printing from the global scope\n",
            "5 printing from the local scope\n"
          ]
        }
      ]
    },
    {
      "cell_type": "code",
      "source": [
        "# scopes3.py\n",
        "\n",
        "# Definimos una función llamada \"enclosing_func\" (función envolvente).\n",
        "def enclosing_func():\n",
        "    m = 13  # Variable \"m\" en el ámbito de \"enclosing_func\".\n",
        "\n",
        "    # Definimos una función anidada llamada \"local\" (función local).\n",
        "    def local():\n",
        "        # La variable \"m\" no pertenece al ámbito definido por la función local,\n",
        "        # por lo que Python seguirá buscando en el siguiente ámbito envolvente.\n",
        "        # En este caso, \"m\" se encuentra en el ámbito envolvente de enclosing_func.\n",
        "        print(m, 'imprimiendo desde el ámbito local')\n",
        "\n",
        "    # Llamamos a la función \"local\".\n",
        "    local()\n",
        "\n",
        "    m = 5  # Cambiamos el valor de la variable \"m\" en el ámbito global.\n",
        "    print(m, 'imprimiendo desde el ámbito global')\n",
        "\n",
        "# Llamamos a la función \"enclosing_func\".\n",
        "enclosing_func()"
      ],
      "metadata": {
        "colab": {
          "base_uri": "https://localhost:8080/"
        },
        "id": "ND4WLyWGhk93",
        "outputId": "8d057e8c-d198-465b-a0c3-e203695fc6da"
      },
      "execution_count": 3,
      "outputs": [
        {
          "output_type": "stream",
          "name": "stdout",
          "text": [
            "13 imprimiendo desde el ámbito local\n",
            "5 imprimiendo desde el ámbito global\n"
          ]
        }
      ]
    },
    {
      "cell_type": "code",
      "source": [
        "# Definimos dos variables, 'a' y 'b', con valores 14 y 3 respectivamente.\n",
        "a = 14\n",
        "b = 3\n",
        "\n",
        "# Realizamos una operación de suma entre 'a' y 'b', = 17.\n",
        "a + b  # adición\n",
        "\n",
        "# Realizamos una operación de resta entre 'a' y 'b', = 11.\n",
        "a - b  # sustracción\n",
        "\n",
        "# Realizamos una operación de multiplicación entre 'a' y 'b', = 42.\n",
        "a * b  # multiplicación\n",
        "\n",
        "# Realizamos una operación de división verdadera (con decimales) entre 'a' y 'b', = 4.666666666666667.\n",
        "a / b  # división verdadera\n",
        "\n",
        "# Realizamos una operación de división entera entre 'a' y 'b', que es igual el cociente 4.\n",
        "a // b  # división entera\n",
        "\n",
        "# Realizamos una operación de módulo (residuo de la división) entre 'a' y 'b', = 2.\n",
        "a % b  # operación de módulo (resto de la división)\n",
        "\n",
        "# Realizamos una operación de potenciación entre 'a' y 'b', que es igual a 14 elevado a la 3, = 2744.\n",
        "a ** b  # operación de potenciación"
      ],
      "metadata": {
        "colab": {
          "base_uri": "https://localhost:8080/"
        },
        "id": "KH13BKWymMK6",
        "outputId": "3da0bd2b-3f5c-4b66-d278-6954046aeeb9"
      },
      "execution_count": 4,
      "outputs": [
        {
          "output_type": "execute_result",
          "data": {
            "text/plain": [
              "2744"
            ]
          },
          "metadata": {},
          "execution_count": 4
        }
      ]
    }
  ]
}