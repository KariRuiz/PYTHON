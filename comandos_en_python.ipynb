{
  "nbformat": 4,
  "nbformat_minor": 0,
  "metadata": {
    "colab": {
      "provenance": [],
      "authorship_tag": "ABX9TyNkHDU9cOvbTuv7JYrSktae",
      "include_colab_link": true
    },
    "kernelspec": {
      "name": "python3",
      "display_name": "Python 3"
    },
    "language_info": {
      "name": "python"
    }
  },
  "cells": [
    {
      "cell_type": "markdown",
      "metadata": {
        "id": "view-in-github",
        "colab_type": "text"
      },
      "source": [
        "<a href=\"https://colab.research.google.com/github/KariRuiz/PYTHON/blob/main/comandos_en_python.ipynb\" target=\"_parent\"><img src=\"https://colab.research.google.com/assets/colab-badge.svg\" alt=\"Open In Colab\"/></a>"
      ]
    },
    {
      "cell_type": "code",
      "execution_count": 1,
      "metadata": {
        "colab": {
          "base_uri": "https://localhost:8080/"
        },
        "id": "N4n2Lz2YZnRt",
        "outputId": "688fd9a9-6e4d-430d-a81f-4e157889dbcd"
      },
      "outputs": [
        {
          "output_type": "stream",
          "name": "stdout",
          "text": [
            "7\n",
            "5\n"
          ]
        }
      ],
      "source": [
        "# scopes1.py\n",
        "# Local versus Global\n",
        "\n",
        "# Definimos una función llamada local\n",
        "def local():\n",
        "    m = 7\n",
        "    print(m)\n",
        "\n",
        "# Definimos m dentro del alcance global\n",
        "m = 5\n",
        "\n",
        "# Llamamos o ejecutamos la función local\n",
        "local()\n",
        "print(m)"
      ]
    }
  ]
}